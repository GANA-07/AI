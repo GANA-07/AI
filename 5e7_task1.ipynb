{
  "nbformat": 4,
  "nbformat_minor": 0,
  "metadata": {
    "colab": {
      "name": "5e7_task1.ipynb",
      "provenance": [],
      "collapsed_sections": [],
      "authorship_tag": "ABX9TyPi7N5Ws8nLJyMjaK82H9k+",
      "include_colab_link": true
    },
    "kernelspec": {
      "name": "python3",
      "display_name": "Python 3"
    },
    "language_info": {
      "name": "python"
    }
  },
  "cells": [
    {
      "cell_type": "markdown",
      "metadata": {
        "id": "view-in-github",
        "colab_type": "text"
      },
      "source": [
        "<a href=\"https://colab.research.google.com/github/GANA-07/AI/blob/main/5e7_task1.ipynb\" target=\"_parent\"><img src=\"https://colab.research.google.com/assets/colab-badge.svg\" alt=\"Open In Colab\"/></a>"
      ]
    },
    {
      "cell_type": "code",
      "metadata": {
        "colab": {
          "base_uri": "https://localhost:8080/"
        },
        "id": "7TbqNs03vyIp",
        "outputId": "fbf40ca2-49ae-4724-91d8-9025ff3e0882"
      },
      "source": [
        "from scipy.optimize import linprog\n",
        "obj = [-50,-120]   # Objective function matrix\n",
        "A_ieq = [[7000,2000],[10,30],[1,1]]   # Inequality constraints coeff. matrix\n",
        "b_ieq = [700000,1200,110]   # Inequality constraints cont. matrix\n",
        "boundery = [(0,float(\"inf\")),(0,float(\"inf\"))]   # limits for a and b\n",
        "optimise = linprog(c = obj, A_ub = A_ieq, b_ub = b_ieq, bounds = boundery, method = \"Simplex\")\n",
        "x,y=optimise.x\n",
        "print('x = ' f'{round(x)}')\n",
        "print('y = ' f'{round(y)}')\n",
        "Profit = (50*x)+(120*y)\n",
        "print(f'Profit : {Profit}')"
      ],
      "execution_count": 4,
      "outputs": [
        {
          "output_type": "stream",
          "text": [
            "x = 98\n",
            "y = 7\n",
            "Profit : 5778.9473684210525\n"
          ],
          "name": "stdout"
        }
      ]
    }
  ]
}