{
  "nbformat": 4,
  "nbformat_minor": 0,
  "metadata": {
    "colab": {
      "name": "5e7_task3.ipynb",
      "provenance": [],
      "authorship_tag": "ABX9TyMCyNHqwKdFYc4bPYxdrQIL",
      "include_colab_link": true
    },
    "kernelspec": {
      "name": "python3",
      "display_name": "Python 3"
    },
    "language_info": {
      "name": "python"
    }
  },
  "cells": [
    {
      "cell_type": "markdown",
      "metadata": {
        "id": "view-in-github",
        "colab_type": "text"
      },
      "source": [
        "<a href=\"https://colab.research.google.com/github/GANA-07/AI/blob/main/5e7_task3.ipynb\" target=\"_parent\"><img src=\"https://colab.research.google.com/assets/colab-badge.svg\" alt=\"Open In Colab\"/></a>"
      ]
    },
    {
      "cell_type": "code",
      "metadata": {
        "colab": {
          "base_uri": "https://localhost:8080/"
        },
        "id": "xQ7PyLsgzsvt",
        "outputId": "038a3bc2-890a-4501-dcbf-9331c6ead12c"
      },
      "source": [
        "import numpy as np\n",
        "import math as m\n",
        "\n",
        "x = np.random.uniform(-12,12)\n",
        "y = np.random.uniform(-12,12)\n",
        "\n",
        "eta = 0.01\n",
        "iterations = 10000\n",
        "\n",
        "for i in range(iterations):\n",
        "    gradx = 6*x\n",
        "    grady = -5*m.exp(-y)\n",
        "    stepx = -eta*gradx\n",
        "    stepy = -eta*grady\n",
        "    x += stepx\n",
        "    y += stepy\n",
        "\n",
        "x = round(x)\n",
        "y = round(y)\n",
        "\n",
        "print(f'The value of x,y : ', x, y)\n",
        "print(f'Minimum Value of f(x,y) : ', (3*x**2)+(5*m.exp(-y))+10 )"
      ],
      "execution_count": 16,
      "outputs": [
        {
          "output_type": "stream",
          "name": "stdout",
          "text": [
            "The value of x,y :  0 355\n",
            "Minimum Value of f(x,y) :  10.0\n"
          ]
        }
      ]
    }
  ]
}